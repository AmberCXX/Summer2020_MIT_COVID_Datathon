{
 "cells": [
  {
   "cell_type": "code",
   "execution_count": 2,
   "metadata": {},
   "outputs": [],
   "source": [
    "import os\n",
    "import pandas as pd\n",
    "import numpy as np\n",
    "import seaborn as sns\n",
    "import matplotlib.pyplot as plt"
   ]
  },
  {
   "cell_type": "code",
   "execution_count": 4,
   "metadata": {},
   "outputs": [
    {
     "data": {
      "text/plain": [
       "['MN.csv',\n",
       " 'AZ.csv',\n",
       " 'WA.csv',\n",
       " 'WV.csv',\n",
       " 'AL.csv',\n",
       " 'NC.csv',\n",
       " 'MO.csv',\n",
       " 'NV.csv',\n",
       " 'OR.csv',\n",
       " 'TX.csv',\n",
       " 'TN.csv',\n",
       " 'ND.csv',\n",
       " 'AK.csv',\n",
       " 'CT.csv',\n",
       " 'VT.csv',\n",
       " 'MI.csv',\n",
       " 'NE.csv',\n",
       " 'VA.csv',\n",
       " 'CA.csv',\n",
       " 'ID.csv',\n",
       " 'KY.csv',\n",
       " 'FL.csv',\n",
       " 'PA.csv',\n",
       " 'RI.csv',\n",
       " 'DE.csv',\n",
       " 'IA.csv',\n",
       " 'KS.csv',\n",
       " 'IL.csv',\n",
       " 'SC.csv',\n",
       " 'HI.csv',\n",
       " 'IN.csv',\n",
       " 'GA.csv',\n",
       " 'SD.csv',\n",
       " 'WI.csv',\n",
       " 'AR.csv',\n",
       " 'NJ.csv',\n",
       " 'NH.csv',\n",
       " 'MS.csv',\n",
       " 'MD.csv',\n",
       " 'CO.csv',\n",
       " 'UT.csv',\n",
       " 'ME.csv',\n",
       " 'LA.csv',\n",
       " 'MA.csv',\n",
       " 'NM.csv',\n",
       " 'WY.csv',\n",
       " 'OH.csv',\n",
       " 'NY.csv',\n",
       " 'US.csv',\n",
       " 'OK.csv',\n",
       " 'MT.csv']"
      ]
     },
     "execution_count": 4,
     "metadata": {},
     "output_type": "execute_result"
    }
   ],
   "source": [
    "all_states = os.listdir('clean_data/')\n",
    "all_states = [f for f in all_states if len(f)<7]\n",
    "all_states"
   ]
  },
  {
   "cell_type": "code",
   "execution_count": null,
   "metadata": {},
   "outputs": [],
   "source": []
  }
 ],
 "metadata": {
  "kernelspec": {
   "display_name": "Python 3",
   "language": "python",
   "name": "python3"
  },
  "language_info": {
   "codemirror_mode": {
    "name": "ipython",
    "version": 3
   },
   "file_extension": ".py",
   "mimetype": "text/x-python",
   "name": "python",
   "nbconvert_exporter": "python",
   "pygments_lexer": "ipython3",
   "version": "3.6.7"
  }
 },
 "nbformat": 4,
 "nbformat_minor": 2
}
