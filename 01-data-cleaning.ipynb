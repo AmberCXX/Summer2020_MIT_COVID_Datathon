{
 "cells": [
  {
   "cell_type": "code",
   "execution_count": 1,
   "metadata": {},
   "outputs": [],
   "source": [
    "import pandas as pd\n",
    "import datetime\n",
    "import seaborn as sns"
   ]
  },
  {
   "cell_type": "markdown",
   "metadata": {},
   "source": [
    "# Covid Cases Data"
   ]
  },
  {
   "cell_type": "code",
   "execution_count": 2,
   "metadata": {},
   "outputs": [
    {
     "name": "stdout",
     "output_type": "stream",
     "text": [
      "(357, 10)\n"
     ]
    },
    {
     "data": {
      "text/html": [
       "<div>\n",
       "<style scoped>\n",
       "    .dataframe tbody tr th:only-of-type {\n",
       "        vertical-align: middle;\n",
       "    }\n",
       "\n",
       "    .dataframe tbody tr th {\n",
       "        vertical-align: top;\n",
       "    }\n",
       "\n",
       "    .dataframe thead th {\n",
       "        text-align: right;\n",
       "    }\n",
       "</style>\n",
       "<table border=\"1\" class=\"dataframe\">\n",
       "  <thead>\n",
       "    <tr style=\"text-align: right;\">\n",
       "      <th></th>\n",
       "      <th>name</th>\n",
       "      <th>abbreviation</th>\n",
       "      <th>staff_tests</th>\n",
       "      <th>prisoner_tests</th>\n",
       "      <th>total_staff_cases</th>\n",
       "      <th>total_prisoner_cases</th>\n",
       "      <th>total_staff_deaths</th>\n",
       "      <th>total_prisoner_deaths</th>\n",
       "      <th>date</th>\n",
       "      <th>week_num</th>\n",
       "    </tr>\n",
       "  </thead>\n",
       "  <tbody>\n",
       "    <tr>\n",
       "      <th>0</th>\n",
       "      <td>Alabama</td>\n",
       "      <td>AL</td>\n",
       "      <td>NaN</td>\n",
       "      <td>102.0</td>\n",
       "      <td>17.0</td>\n",
       "      <td>8.0</td>\n",
       "      <td>0.0</td>\n",
       "      <td>1.0</td>\n",
       "      <td>2020-05-06</td>\n",
       "      <td>2020-19</td>\n",
       "    </tr>\n",
       "    <tr>\n",
       "      <th>1</th>\n",
       "      <td>Alaska</td>\n",
       "      <td>AK</td>\n",
       "      <td>NaN</td>\n",
       "      <td>235.0</td>\n",
       "      <td>8.0</td>\n",
       "      <td>1.0</td>\n",
       "      <td>0.0</td>\n",
       "      <td>0.0</td>\n",
       "      <td>2020-05-06</td>\n",
       "      <td>2020-19</td>\n",
       "    </tr>\n",
       "    <tr>\n",
       "      <th>2</th>\n",
       "      <td>Arizona</td>\n",
       "      <td>AZ</td>\n",
       "      <td>NaN</td>\n",
       "      <td>277.0</td>\n",
       "      <td>52.0</td>\n",
       "      <td>69.0</td>\n",
       "      <td>0.0</td>\n",
       "      <td>5.0</td>\n",
       "      <td>2020-05-06</td>\n",
       "      <td>2020-19</td>\n",
       "    </tr>\n",
       "    <tr>\n",
       "      <th>3</th>\n",
       "      <td>Arkansas</td>\n",
       "      <td>AR</td>\n",
       "      <td>NaN</td>\n",
       "      <td>NaN</td>\n",
       "      <td>127.0</td>\n",
       "      <td>944.0</td>\n",
       "      <td>0.0</td>\n",
       "      <td>5.0</td>\n",
       "      <td>2020-05-07</td>\n",
       "      <td>2020-19</td>\n",
       "    </tr>\n",
       "    <tr>\n",
       "      <th>4</th>\n",
       "      <td>California</td>\n",
       "      <td>CA</td>\n",
       "      <td>NaN</td>\n",
       "      <td>1551.0</td>\n",
       "      <td>169.0</td>\n",
       "      <td>398.0</td>\n",
       "      <td>0.0</td>\n",
       "      <td>1.0</td>\n",
       "      <td>2020-05-06</td>\n",
       "      <td>2020-19</td>\n",
       "    </tr>\n",
       "  </tbody>\n",
       "</table>\n",
       "</div>"
      ],
      "text/plain": [
       "         name abbreviation  staff_tests  prisoner_tests  total_staff_cases  \\\n",
       "0     Alabama           AL          NaN           102.0               17.0   \n",
       "1      Alaska           AK          NaN           235.0                8.0   \n",
       "2     Arizona           AZ          NaN           277.0               52.0   \n",
       "3    Arkansas           AR          NaN             NaN              127.0   \n",
       "4  California           CA          NaN          1551.0              169.0   \n",
       "\n",
       "   total_prisoner_cases  total_staff_deaths  total_prisoner_deaths       date  \\\n",
       "0                   8.0                 0.0                    1.0 2020-05-06   \n",
       "1                   1.0                 0.0                    0.0 2020-05-06   \n",
       "2                  69.0                 0.0                    5.0 2020-05-06   \n",
       "3                 944.0                 0.0                    5.0 2020-05-07   \n",
       "4                 398.0                 0.0                    1.0 2020-05-06   \n",
       "\n",
       "  week_num  \n",
       "0  2020-19  \n",
       "1  2020-19  \n",
       "2  2020-19  \n",
       "3  2020-19  \n",
       "4  2020-19  "
      ]
     },
     "execution_count": 2,
     "metadata": {},
     "output_type": "execute_result"
    }
   ],
   "source": [
    "# Read in the data\n",
    "df = pd.read_csv('data/covid_prison_cases.csv')\n",
    "df['date'] = pd.to_datetime(df['as_of_date'])\n",
    "df['week_num'] = df['date'].apply(lambda x: str(x.year)+\"-\"+str(datetime.date(x.year, x.month, x.day).isocalendar()[1]))\n",
    "df = df.drop(['as_of_date', 'notes'], 1)\n",
    "print(df.shape)\n",
    "df.head()"
   ]
  },
  {
   "cell_type": "markdown",
   "metadata": {},
   "source": [
    "We see that most test data is not available."
   ]
  },
  {
   "cell_type": "code",
   "execution_count": 3,
   "metadata": {},
   "outputs": [
    {
     "data": {
      "text/plain": [
       "name                       0\n",
       "abbreviation               0\n",
       "staff_tests              309\n",
       "prisoner_tests           136\n",
       "total_staff_cases         51\n",
       "total_prisoner_cases       9\n",
       "total_staff_deaths        33\n",
       "total_prisoner_deaths     10\n",
       "date                       0\n",
       "week_num                   0\n",
       "dtype: int64"
      ]
     },
     "execution_count": 3,
     "metadata": {},
     "output_type": "execute_result"
    }
   ],
   "source": [
    "df.isna().sum()"
   ]
  },
  {
   "cell_type": "code",
   "execution_count": 4,
   "metadata": {},
   "outputs": [
    {
     "name": "stdout",
     "output_type": "stream",
     "text": [
      "Number of unique states (including Federal Bureau of Prisons): 51\n",
      "Number of unique dates: 31\n",
      "Number of unique weeks: 7\n"
     ]
    }
   ],
   "source": [
    "print(\"Number of unique states (including Federal Bureau of Prisons):\", df['name'].nunique())\n",
    "print(\"Number of unique dates:\", df['date'].nunique())\n",
    "print(\"Number of unique weeks:\", df['week_num'].nunique())"
   ]
  },
  {
   "cell_type": "code",
   "execution_count": 5,
   "metadata": {},
   "outputs": [],
   "source": [
    "for state in df['abbreviation'].unique():\n",
    "    state_df = df[df['abbreviation'] == state].copy()\n",
    "    state_df = state_df.sort_values('week_num').reset_index(drop=1)\n",
    "    state_df.to_csv(f'clean_data/{state}.csv', index=None)"
   ]
  },
  {
   "cell_type": "code",
   "execution_count": 6,
   "metadata": {},
   "outputs": [
    {
     "data": {
      "text/html": [
       "<div>\n",
       "<style scoped>\n",
       "    .dataframe tbody tr th:only-of-type {\n",
       "        vertical-align: middle;\n",
       "    }\n",
       "\n",
       "    .dataframe tbody tr th {\n",
       "        vertical-align: top;\n",
       "    }\n",
       "\n",
       "    .dataframe thead th {\n",
       "        text-align: right;\n",
       "    }\n",
       "</style>\n",
       "<table border=\"1\" class=\"dataframe\">\n",
       "  <thead>\n",
       "    <tr style=\"text-align: right;\">\n",
       "      <th></th>\n",
       "      <th>name</th>\n",
       "      <th>abbreviation</th>\n",
       "      <th>staff_tests</th>\n",
       "      <th>prisoner_tests</th>\n",
       "      <th>total_staff_cases</th>\n",
       "      <th>total_prisoner_cases</th>\n",
       "      <th>total_staff_deaths</th>\n",
       "      <th>total_prisoner_deaths</th>\n",
       "      <th>date</th>\n",
       "      <th>week_num</th>\n",
       "    </tr>\n",
       "  </thead>\n",
       "  <tbody>\n",
       "    <tr>\n",
       "      <th>0</th>\n",
       "      <td>Federal</td>\n",
       "      <td>US</td>\n",
       "      <td>NaN</td>\n",
       "      <td>NaN</td>\n",
       "      <td>8.0</td>\n",
       "      <td>10.0</td>\n",
       "      <td>0.0</td>\n",
       "      <td>0.0</td>\n",
       "      <td>2020-03-26</td>\n",
       "      <td>2020-13</td>\n",
       "    </tr>\n",
       "    <tr>\n",
       "      <th>1</th>\n",
       "      <td>Federal</td>\n",
       "      <td>US</td>\n",
       "      <td>NaN</td>\n",
       "      <td>NaN</td>\n",
       "      <td>37.0</td>\n",
       "      <td>60.0</td>\n",
       "      <td>0.0</td>\n",
       "      <td>3.0</td>\n",
       "      <td>2020-04-01</td>\n",
       "      <td>2020-14</td>\n",
       "    </tr>\n",
       "    <tr>\n",
       "      <th>2</th>\n",
       "      <td>Federal</td>\n",
       "      <td>US</td>\n",
       "      <td>NaN</td>\n",
       "      <td>NaN</td>\n",
       "      <td>92.0</td>\n",
       "      <td>275.0</td>\n",
       "      <td>0.0</td>\n",
       "      <td>8.0</td>\n",
       "      <td>2020-04-08</td>\n",
       "      <td>2020-15</td>\n",
       "    </tr>\n",
       "    <tr>\n",
       "      <th>3</th>\n",
       "      <td>Federal</td>\n",
       "      <td>US</td>\n",
       "      <td>NaN</td>\n",
       "      <td>NaN</td>\n",
       "      <td>280.0</td>\n",
       "      <td>468.0</td>\n",
       "      <td>0.0</td>\n",
       "      <td>16.0</td>\n",
       "      <td>2020-04-15</td>\n",
       "      <td>2020-16</td>\n",
       "    </tr>\n",
       "    <tr>\n",
       "      <th>4</th>\n",
       "      <td>Federal</td>\n",
       "      <td>US</td>\n",
       "      <td>NaN</td>\n",
       "      <td>NaN</td>\n",
       "      <td>342.0</td>\n",
       "      <td>590.0</td>\n",
       "      <td>0.0</td>\n",
       "      <td>24.0</td>\n",
       "      <td>2020-04-22</td>\n",
       "      <td>2020-17</td>\n",
       "    </tr>\n",
       "    <tr>\n",
       "      <th>5</th>\n",
       "      <td>Federal</td>\n",
       "      <td>US</td>\n",
       "      <td>NaN</td>\n",
       "      <td>NaN</td>\n",
       "      <td>475.0</td>\n",
       "      <td>1979.0</td>\n",
       "      <td>0.0</td>\n",
       "      <td>31.0</td>\n",
       "      <td>2020-04-29</td>\n",
       "      <td>2020-18</td>\n",
       "    </tr>\n",
       "    <tr>\n",
       "      <th>6</th>\n",
       "      <td>Federal</td>\n",
       "      <td>US</td>\n",
       "      <td>NaN</td>\n",
       "      <td>NaN</td>\n",
       "      <td>514.0</td>\n",
       "      <td>2701.0</td>\n",
       "      <td>0.0</td>\n",
       "      <td>42.0</td>\n",
       "      <td>2020-05-06</td>\n",
       "      <td>2020-19</td>\n",
       "    </tr>\n",
       "  </tbody>\n",
       "</table>\n",
       "</div>"
      ],
      "text/plain": [
       "      name abbreviation  staff_tests  prisoner_tests  total_staff_cases  \\\n",
       "0  Federal           US          NaN             NaN                8.0   \n",
       "1  Federal           US          NaN             NaN               37.0   \n",
       "2  Federal           US          NaN             NaN               92.0   \n",
       "3  Federal           US          NaN             NaN              280.0   \n",
       "4  Federal           US          NaN             NaN              342.0   \n",
       "5  Federal           US          NaN             NaN              475.0   \n",
       "6  Federal           US          NaN             NaN              514.0   \n",
       "\n",
       "   total_prisoner_cases  total_staff_deaths  total_prisoner_deaths       date  \\\n",
       "0                  10.0                 0.0                    0.0 2020-03-26   \n",
       "1                  60.0                 0.0                    3.0 2020-04-01   \n",
       "2                 275.0                 0.0                    8.0 2020-04-08   \n",
       "3                 468.0                 0.0                   16.0 2020-04-15   \n",
       "4                 590.0                 0.0                   24.0 2020-04-22   \n",
       "5                1979.0                 0.0                   31.0 2020-04-29   \n",
       "6                2701.0                 0.0                   42.0 2020-05-06   \n",
       "\n",
       "  week_num  \n",
       "0  2020-13  \n",
       "1  2020-14  \n",
       "2  2020-15  \n",
       "3  2020-16  \n",
       "4  2020-17  \n",
       "5  2020-18  \n",
       "6  2020-19  "
      ]
     },
     "execution_count": 6,
     "metadata": {},
     "output_type": "execute_result"
    }
   ],
   "source": [
    "# Example state_df\n",
    "state_df"
   ]
  },
  {
   "cell_type": "markdown",
   "metadata": {},
   "source": [
    "# Prison Populations Data"
   ]
  },
  {
   "cell_type": "code",
   "execution_count": 7,
   "metadata": {},
   "outputs": [
    {
     "name": "stdout",
     "output_type": "stream",
     "text": [
      "(51, 4)\n"
     ]
    },
    {
     "data": {
      "text/html": [
       "<div>\n",
       "<style scoped>\n",
       "    .dataframe tbody tr th:only-of-type {\n",
       "        vertical-align: middle;\n",
       "    }\n",
       "\n",
       "    .dataframe tbody tr th {\n",
       "        vertical-align: top;\n",
       "    }\n",
       "\n",
       "    .dataframe thead th {\n",
       "        text-align: right;\n",
       "    }\n",
       "</style>\n",
       "<table border=\"1\" class=\"dataframe\">\n",
       "  <thead>\n",
       "    <tr style=\"text-align: right;\">\n",
       "      <th></th>\n",
       "      <th>name</th>\n",
       "      <th>abbreviation</th>\n",
       "      <th>prison_pop</th>\n",
       "      <th>prison_pop_date</th>\n",
       "    </tr>\n",
       "  </thead>\n",
       "  <tbody>\n",
       "    <tr>\n",
       "      <th>0</th>\n",
       "      <td>Alabama</td>\n",
       "      <td>AL</td>\n",
       "      <td>21154</td>\n",
       "      <td>1/31/2020</td>\n",
       "    </tr>\n",
       "    <tr>\n",
       "      <th>1</th>\n",
       "      <td>Alaska</td>\n",
       "      <td>AK</td>\n",
       "      <td>4997</td>\n",
       "      <td>12/31/2019</td>\n",
       "    </tr>\n",
       "    <tr>\n",
       "      <th>2</th>\n",
       "      <td>Arizona</td>\n",
       "      <td>AZ</td>\n",
       "      <td>41674</td>\n",
       "      <td>4/15/2020</td>\n",
       "    </tr>\n",
       "    <tr>\n",
       "      <th>3</th>\n",
       "      <td>Arkansas</td>\n",
       "      <td>AR</td>\n",
       "      <td>18181</td>\n",
       "      <td>2/29/2020</td>\n",
       "    </tr>\n",
       "    <tr>\n",
       "      <th>4</th>\n",
       "      <td>California</td>\n",
       "      <td>CA</td>\n",
       "      <td>118466</td>\n",
       "      <td>4/15/2020</td>\n",
       "    </tr>\n",
       "  </tbody>\n",
       "</table>\n",
       "</div>"
      ],
      "text/plain": [
       "         name abbreviation  prison_pop prison_pop_date\n",
       "0     Alabama           AL       21154       1/31/2020\n",
       "1      Alaska           AK        4997      12/31/2019\n",
       "2     Arizona           AZ       41674       4/15/2020\n",
       "3    Arkansas           AR       18181       2/29/2020\n",
       "4  California           CA      118466       4/15/2020"
      ]
     },
     "execution_count": 7,
     "metadata": {},
     "output_type": "execute_result"
    }
   ],
   "source": [
    "prison = pd.read_csv('data/prison_populations.csv')\n",
    "prison.columns = ['name', 'abbreviation', 'prison_pop', 'prison_pop_date']\n",
    "print(prison.shape)\n",
    "prison.head()"
   ]
  },
  {
   "cell_type": "code",
   "execution_count": 8,
   "metadata": {},
   "outputs": [
    {
     "name": "stdout",
     "output_type": "stream",
     "text": [
      "(51, 3)\n"
     ]
    },
    {
     "data": {
      "text/html": [
       "<div>\n",
       "<style scoped>\n",
       "    .dataframe tbody tr th:only-of-type {\n",
       "        vertical-align: middle;\n",
       "    }\n",
       "\n",
       "    .dataframe tbody tr th {\n",
       "        vertical-align: top;\n",
       "    }\n",
       "\n",
       "    .dataframe thead th {\n",
       "        text-align: right;\n",
       "    }\n",
       "</style>\n",
       "<table border=\"1\" class=\"dataframe\">\n",
       "  <thead>\n",
       "    <tr style=\"text-align: right;\">\n",
       "      <th></th>\n",
       "      <th>name</th>\n",
       "      <th>staff_pop</th>\n",
       "      <th>staff_pop_date</th>\n",
       "    </tr>\n",
       "  </thead>\n",
       "  <tbody>\n",
       "    <tr>\n",
       "      <th>0</th>\n",
       "      <td>Alabama</td>\n",
       "      <td>6259.0</td>\n",
       "      <td>9/30/2019</td>\n",
       "    </tr>\n",
       "    <tr>\n",
       "      <th>1</th>\n",
       "      <td>Alaska</td>\n",
       "      <td>NaN</td>\n",
       "      <td>NaN</td>\n",
       "    </tr>\n",
       "    <tr>\n",
       "      <th>2</th>\n",
       "      <td>Arizona</td>\n",
       "      <td>8536.0</td>\n",
       "      <td>10/31/2019</td>\n",
       "    </tr>\n",
       "    <tr>\n",
       "      <th>3</th>\n",
       "      <td>Arkansas</td>\n",
       "      <td>4045.0</td>\n",
       "      <td>2/29/2020</td>\n",
       "    </tr>\n",
       "    <tr>\n",
       "      <th>4</th>\n",
       "      <td>California</td>\n",
       "      <td>46000.0</td>\n",
       "      <td>4/15/2020</td>\n",
       "    </tr>\n",
       "  </tbody>\n",
       "</table>\n",
       "</div>"
      ],
      "text/plain": [
       "         name  staff_pop staff_pop_date\n",
       "0     Alabama     6259.0      9/30/2019\n",
       "1      Alaska        NaN            NaN\n",
       "2     Arizona     8536.0     10/31/2019\n",
       "3    Arkansas     4045.0      2/29/2020\n",
       "4  California    46000.0      4/15/2020"
      ]
     },
     "execution_count": 8,
     "metadata": {},
     "output_type": "execute_result"
    }
   ],
   "source": [
    "staff = pd.read_csv('data/staff_populations.csv').drop(['notes', 'abbreviation'], 1)\n",
    "staff.columns = ['name', 'staff_pop', 'staff_pop_date']\n",
    "print(staff.shape)\n",
    "staff.head()"
   ]
  },
  {
   "cell_type": "markdown",
   "metadata": {},
   "source": [
    "We will combine these two datasets together."
   ]
  },
  {
   "cell_type": "code",
   "execution_count": 9,
   "metadata": {},
   "outputs": [
    {
     "name": "stdout",
     "output_type": "stream",
     "text": [
      "(51, 6)\n"
     ]
    },
    {
     "data": {
      "text/html": [
       "<div>\n",
       "<style scoped>\n",
       "    .dataframe tbody tr th:only-of-type {\n",
       "        vertical-align: middle;\n",
       "    }\n",
       "\n",
       "    .dataframe tbody tr th {\n",
       "        vertical-align: top;\n",
       "    }\n",
       "\n",
       "    .dataframe thead th {\n",
       "        text-align: right;\n",
       "    }\n",
       "</style>\n",
       "<table border=\"1\" class=\"dataframe\">\n",
       "  <thead>\n",
       "    <tr style=\"text-align: right;\">\n",
       "      <th></th>\n",
       "      <th>name</th>\n",
       "      <th>abbreviation</th>\n",
       "      <th>prison_pop</th>\n",
       "      <th>prison_pop_date</th>\n",
       "      <th>staff_pop</th>\n",
       "      <th>staff_pop_date</th>\n",
       "    </tr>\n",
       "  </thead>\n",
       "  <tbody>\n",
       "    <tr>\n",
       "      <th>0</th>\n",
       "      <td>Alabama</td>\n",
       "      <td>AL</td>\n",
       "      <td>21154</td>\n",
       "      <td>1/31/2020</td>\n",
       "      <td>6259.0</td>\n",
       "      <td>9/30/2019</td>\n",
       "    </tr>\n",
       "    <tr>\n",
       "      <th>1</th>\n",
       "      <td>Alaska</td>\n",
       "      <td>AK</td>\n",
       "      <td>4997</td>\n",
       "      <td>12/31/2019</td>\n",
       "      <td>NaN</td>\n",
       "      <td>NaN</td>\n",
       "    </tr>\n",
       "    <tr>\n",
       "      <th>2</th>\n",
       "      <td>Arizona</td>\n",
       "      <td>AZ</td>\n",
       "      <td>41674</td>\n",
       "      <td>4/15/2020</td>\n",
       "      <td>8536.0</td>\n",
       "      <td>10/31/2019</td>\n",
       "    </tr>\n",
       "    <tr>\n",
       "      <th>3</th>\n",
       "      <td>Arkansas</td>\n",
       "      <td>AR</td>\n",
       "      <td>18181</td>\n",
       "      <td>2/29/2020</td>\n",
       "      <td>4045.0</td>\n",
       "      <td>2/29/2020</td>\n",
       "    </tr>\n",
       "    <tr>\n",
       "      <th>4</th>\n",
       "      <td>California</td>\n",
       "      <td>CA</td>\n",
       "      <td>118466</td>\n",
       "      <td>4/15/2020</td>\n",
       "      <td>46000.0</td>\n",
       "      <td>4/15/2020</td>\n",
       "    </tr>\n",
       "  </tbody>\n",
       "</table>\n",
       "</div>"
      ],
      "text/plain": [
       "         name abbreviation  prison_pop prison_pop_date  staff_pop  \\\n",
       "0     Alabama           AL       21154       1/31/2020     6259.0   \n",
       "1      Alaska           AK        4997      12/31/2019        NaN   \n",
       "2     Arizona           AZ       41674       4/15/2020     8536.0   \n",
       "3    Arkansas           AR       18181       2/29/2020     4045.0   \n",
       "4  California           CA      118466       4/15/2020    46000.0   \n",
       "\n",
       "  staff_pop_date  \n",
       "0      9/30/2019  \n",
       "1            NaN  \n",
       "2     10/31/2019  \n",
       "3      2/29/2020  \n",
       "4      4/15/2020  "
      ]
     },
     "execution_count": 9,
     "metadata": {},
     "output_type": "execute_result"
    }
   ],
   "source": [
    "pop = pd.merge(prison, staff, on = 'name', how = 'inner')\n",
    "print(pop.shape)\n",
    "pop.head()"
   ]
  },
  {
   "cell_type": "code",
   "execution_count": 10,
   "metadata": {},
   "outputs": [
    {
     "data": {
      "text/plain": [
       "name               0\n",
       "abbreviation       0\n",
       "prison_pop         0\n",
       "prison_pop_date    0\n",
       "staff_pop          6\n",
       "staff_pop_date     6\n",
       "dtype: int64"
      ]
     },
     "execution_count": 10,
     "metadata": {},
     "output_type": "execute_result"
    }
   ],
   "source": [
    "# Inspect NaN\n",
    "pop.isna().sum()"
   ]
  },
  {
   "cell_type": "code",
   "execution_count": 11,
   "metadata": {},
   "outputs": [
    {
     "data": {
      "text/plain": [
       "<matplotlib.axes._subplots.AxesSubplot at 0x1231e57f0>"
      ]
     },
     "execution_count": 11,
     "metadata": {},
     "output_type": "execute_result"
    },
    {
     "data": {
      "image/png": "[encoded data removed]",
      "text/plain": [
       "<Figure size 432x288 with 1 Axes>"
      ]
     },
     "metadata": {
      "needs_background": "light"
     },
     "output_type": "display_data"
    }
   ],
   "source": [
    "# Relationship between prison and staff population\n",
    "sns.regplot(pop['prison_pop'], pop['staff_pop'])"
   ]
  },
  {
   "cell_type": "code",
   "execution_count": 12,
   "metadata": {},
   "outputs": [
    {
     "data": {
      "text/html": [
       "<div>\n",
       "<style scoped>\n",
       "    .dataframe tbody tr th:only-of-type {\n",
       "        vertical-align: middle;\n",
       "    }\n",
       "\n",
       "    .dataframe tbody tr th {\n",
       "        vertical-align: top;\n",
       "    }\n",
       "\n",
       "    .dataframe thead th {\n",
       "        text-align: right;\n",
       "    }\n",
       "</style>\n",
       "<table border=\"1\" class=\"dataframe\">\n",
       "  <thead>\n",
       "    <tr style=\"text-align: right;\">\n",
       "      <th></th>\n",
       "      <th>name</th>\n",
       "      <th>abbreviation</th>\n",
       "      <th>prison_pop</th>\n",
       "      <th>prison_pop_date</th>\n",
       "      <th>staff_pop</th>\n",
       "      <th>staff_pop_date</th>\n",
       "    </tr>\n",
       "  </thead>\n",
       "  <tbody>\n",
       "    <tr>\n",
       "      <th>1</th>\n",
       "      <td>Alaska</td>\n",
       "      <td>AK</td>\n",
       "      <td>4997</td>\n",
       "      <td>12/31/2019</td>\n",
       "      <td>NaN</td>\n",
       "      <td>NaN</td>\n",
       "    </tr>\n",
       "    <tr>\n",
       "      <th>10</th>\n",
       "      <td>Hawaii</td>\n",
       "      <td>HI</td>\n",
       "      <td>4631</td>\n",
       "      <td>3/31/2020</td>\n",
       "      <td>NaN</td>\n",
       "      <td>NaN</td>\n",
       "    </tr>\n",
       "    <tr>\n",
       "      <th>16</th>\n",
       "      <td>Kentucky</td>\n",
       "      <td>KY</td>\n",
       "      <td>11782</td>\n",
       "      <td>4/15/2020</td>\n",
       "      <td>NaN</td>\n",
       "      <td>NaN</td>\n",
       "    </tr>\n",
       "    <tr>\n",
       "      <th>19</th>\n",
       "      <td>Maryland</td>\n",
       "      <td>MD</td>\n",
       "      <td>18800</td>\n",
       "      <td>12/31/2019</td>\n",
       "      <td>NaN</td>\n",
       "      <td>NaN</td>\n",
       "    </tr>\n",
       "    <tr>\n",
       "      <th>25</th>\n",
       "      <td>Montana</td>\n",
       "      <td>MT</td>\n",
       "      <td>17355</td>\n",
       "      <td>6/30/2018</td>\n",
       "      <td>NaN</td>\n",
       "      <td>NaN</td>\n",
       "    </tr>\n",
       "    <tr>\n",
       "      <th>43</th>\n",
       "      <td>Utah</td>\n",
       "      <td>UT</td>\n",
       "      <td>6131</td>\n",
       "      <td>4/21/2020</td>\n",
       "      <td>NaN</td>\n",
       "      <td>NaN</td>\n",
       "    </tr>\n",
       "  </tbody>\n",
       "</table>\n",
       "</div>"
      ],
      "text/plain": [
       "        name abbreviation  prison_pop prison_pop_date  staff_pop  \\\n",
       "1     Alaska           AK        4997      12/31/2019        NaN   \n",
       "10    Hawaii           HI        4631       3/31/2020        NaN   \n",
       "16  Kentucky           KY       11782       4/15/2020        NaN   \n",
       "19  Maryland           MD       18800      12/31/2019        NaN   \n",
       "25   Montana           MT       17355       6/30/2018        NaN   \n",
       "43      Utah           UT        6131       4/21/2020        NaN   \n",
       "\n",
       "   staff_pop_date  \n",
       "1             NaN  \n",
       "10            NaN  \n",
       "16            NaN  \n",
       "19            NaN  \n",
       "25            NaN  \n",
       "43            NaN  "
      ]
     },
     "execution_count": 12,
     "metadata": {},
     "output_type": "execute_result"
    }
   ],
   "source": [
    "# Print the states with NaN staff_pop\n",
    "pop[pop['staff_pop'].isna()]"
   ]
  },
  {
   "cell_type": "code",
   "execution_count": 13,
   "metadata": {},
   "outputs": [],
   "source": [
    "pop.to_csv('clean_data/population.csv', index=None)"
   ]
  }
 ],
 "metadata": {
  "kernelspec": {
   "display_name": "Python 3",
   "language": "python",
   "name": "python3"
  },
  "language_info": {
   "codemirror_mode": {
    "name": "ipython",
    "version": 3
   },
   "file_extension": ".py",
   "mimetype": "text/x-python",
   "name": "python",
   "nbconvert_exporter": "python",
   "pygments_lexer": "ipython3",
   "version": "3.6.7"
  }
 },
 "nbformat": 4,
 "nbformat_minor": 2
}
